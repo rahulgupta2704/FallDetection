{
 "cells": [
  {
   "cell_type": "markdown",
   "metadata": {},
   "source": [
    "## Training model using CNN\n",
    "Importing all the depandencies"
   ]
  },
  {
   "cell_type": "code",
   "execution_count": 3,
   "metadata": {},
   "outputs": [],
   "source": [
    "import tensorflow as tf\n",
    "from tensorflow.keras.layers import Flatten,Dense,Dropout,BatchNormalization\n",
    "from tensorflow.keras.layers import Conv2D, MaxPool2D\n",
    "from tensorflow.keras.optimizers import Adam\n",
    "from tensorflow.keras import Sequential"
   ]
  },
  {
   "cell_type": "code",
   "execution_count": 9,
   "metadata": {},
   "outputs": [],
   "source": [
    "import pandas as pd\n",
    "import numpy as np\n",
    "import matplotlib.pyplot as plt\n",
    "from sklearn.model_selection import train_test_split\n",
    "from sklearn.preprocessing import StandardScaler, LabelEncoder\n",
    "import scipy.stats as stats"
   ]
  },
  {
   "cell_type": "markdown",
   "metadata": {},
   "source": [
    "#### Importing the Dataset\n",
    "The cumulative.csv dataset contains frame wise keypoint coordinates data for each of the following activities: walking, sitting, pushups & falling. It is a balanced dataset with 6600 video frame data for each of the actions"
   ]
  },
  {
   "cell_type": "code",
   "execution_count": 4,
   "metadata": {},
   "outputs": [],
   "source": [
    "df = pd.read_csv('cumulative_final.csv')"
   ]
  },
  {
   "cell_type": "code",
   "execution_count": 5,
   "metadata": {},
   "outputs": [
    {
     "name": "stdout",
     "output_type": "stream",
     "text": [
      "<class 'pandas.core.frame.DataFrame'>\n",
      "RangeIndex: 26400 entries, 0 to 26399\n",
      "Data columns (total 35 columns):\n",
      " #   Column           Non-Null Count  Dtype  \n",
      "---  ------           --------------  -----  \n",
      " 0   nose_x           26400 non-null  float64\n",
      " 1   nose_y           26400 non-null  float64\n",
      " 2   leftEye_x        26400 non-null  float64\n",
      " 3   leftEye_y        26400 non-null  float64\n",
      " 4   rightEye_x       26400 non-null  float64\n",
      " 5   rightEye_y       26400 non-null  float64\n",
      " 6   leftEar_x        26400 non-null  float64\n",
      " 7   leftEar_y        26400 non-null  float64\n",
      " 8   rightEar_x       26400 non-null  float64\n",
      " 9   rightEar_y       26400 non-null  float64\n",
      " 10  leftShoulder_x   26400 non-null  float64\n",
      " 11  leftShoulder_y   26400 non-null  float64\n",
      " 12  rightShoulder_x  26400 non-null  float64\n",
      " 13  rightShoulder_y  26400 non-null  float64\n",
      " 14  leftElbow_x      26400 non-null  float64\n",
      " 15  leftElbow_y      26400 non-null  float64\n",
      " 16  rightElbow_x     26400 non-null  float64\n",
      " 17  rightElbow_y     26400 non-null  float64\n",
      " 18  leftWrist_x      26400 non-null  float64\n",
      " 19  leftWrist_y      26400 non-null  float64\n",
      " 20  rightWrist_x     26400 non-null  float64\n",
      " 21  rightWrist_y     26400 non-null  float64\n",
      " 22  leftHip_x        26400 non-null  float64\n",
      " 23  leftHip_y        26400 non-null  float64\n",
      " 24  rightHip_x       26400 non-null  float64\n",
      " 25  rightHip_y       26400 non-null  float64\n",
      " 26  leftKnee_x       26400 non-null  float64\n",
      " 27  leftKnee_y       26400 non-null  float64\n",
      " 28  rightKnee_x      26400 non-null  float64\n",
      " 29  rightKnee_y      26400 non-null  float64\n",
      " 30  leftAnkle_x      26400 non-null  float64\n",
      " 31  leftAnkle_y      26400 non-null  float64\n",
      " 32  rightAnkle_x     26400 non-null  float64\n",
      " 33  rightAnkle_y     26400 non-null  float64\n",
      " 34  action           26400 non-null  object \n",
      "dtypes: float64(34), object(1)\n",
      "memory usage: 7.0+ MB\n"
     ]
    }
   ],
   "source": [
    "df.info()"
   ]
  },
  {
   "cell_type": "code",
   "execution_count": 6,
   "metadata": {},
   "outputs": [
    {
     "data": {
      "text/plain": [
       "pushups    6600\n",
       "walking    6600\n",
       "sitting    6600\n",
       "falling    6600\n",
       "Name: action, dtype: int64"
      ]
     },
     "execution_count": 6,
     "metadata": {},
     "output_type": "execute_result"
    }
   ],
   "source": [
    "df['action'].value_counts()"
   ]
  },
  {
   "cell_type": "markdown",
   "metadata": {},
   "source": [
    "Using label encoder to encode the categorical features"
   ]
  },
  {
   "cell_type": "code",
   "execution_count": 7,
   "metadata": {},
   "outputs": [
    {
     "data": {
      "text/html": [
       "<div>\n",
       "<style scoped>\n",
       "    .dataframe tbody tr th:only-of-type {\n",
       "        vertical-align: middle;\n",
       "    }\n",
       "\n",
       "    .dataframe tbody tr th {\n",
       "        vertical-align: top;\n",
       "    }\n",
       "\n",
       "    .dataframe thead th {\n",
       "        text-align: right;\n",
       "    }\n",
       "</style>\n",
       "<table border=\"1\" class=\"dataframe\">\n",
       "  <thead>\n",
       "    <tr style=\"text-align: right;\">\n",
       "      <th></th>\n",
       "      <th>nose_x</th>\n",
       "      <th>nose_y</th>\n",
       "      <th>leftEye_x</th>\n",
       "      <th>leftEye_y</th>\n",
       "      <th>rightEye_x</th>\n",
       "      <th>rightEye_y</th>\n",
       "      <th>leftEar_x</th>\n",
       "      <th>leftEar_y</th>\n",
       "      <th>rightEar_x</th>\n",
       "      <th>rightEar_y</th>\n",
       "      <th>...</th>\n",
       "      <th>leftKnee_x</th>\n",
       "      <th>leftKnee_y</th>\n",
       "      <th>rightKnee_x</th>\n",
       "      <th>rightKnee_y</th>\n",
       "      <th>leftAnkle_x</th>\n",
       "      <th>leftAnkle_y</th>\n",
       "      <th>rightAnkle_x</th>\n",
       "      <th>rightAnkle_y</th>\n",
       "      <th>action</th>\n",
       "      <th>label</th>\n",
       "    </tr>\n",
       "  </thead>\n",
       "  <tbody>\n",
       "    <tr>\n",
       "      <th>0</th>\n",
       "      <td>88.562267</td>\n",
       "      <td>724.668377</td>\n",
       "      <td>76.920197</td>\n",
       "      <td>701.279743</td>\n",
       "      <td>93.534148</td>\n",
       "      <td>740.639009</td>\n",
       "      <td>88.236137</td>\n",
       "      <td>684.570550</td>\n",
       "      <td>88.562267</td>\n",
       "      <td>88.562267</td>\n",
       "      <td>...</td>\n",
       "      <td>496.243334</td>\n",
       "      <td>721.868215</td>\n",
       "      <td>494.971538</td>\n",
       "      <td>662.846904</td>\n",
       "      <td>628.014079</td>\n",
       "      <td>708.712978</td>\n",
       "      <td>634.165572</td>\n",
       "      <td>651.233892</td>\n",
       "      <td>walking</td>\n",
       "      <td>3</td>\n",
       "    </tr>\n",
       "    <tr>\n",
       "      <th>1</th>\n",
       "      <td>93.051570</td>\n",
       "      <td>727.495574</td>\n",
       "      <td>81.841070</td>\n",
       "      <td>701.667541</td>\n",
       "      <td>97.973295</td>\n",
       "      <td>746.697862</td>\n",
       "      <td>93.905751</td>\n",
       "      <td>689.764569</td>\n",
       "      <td>93.051570</td>\n",
       "      <td>93.051570</td>\n",
       "      <td>...</td>\n",
       "      <td>499.121629</td>\n",
       "      <td>728.208774</td>\n",
       "      <td>492.833920</td>\n",
       "      <td>675.424337</td>\n",
       "      <td>634.003899</td>\n",
       "      <td>720.472129</td>\n",
       "      <td>644.226322</td>\n",
       "      <td>650.533208</td>\n",
       "      <td>walking</td>\n",
       "      <td>3</td>\n",
       "    </tr>\n",
       "    <tr>\n",
       "      <th>2</th>\n",
       "      <td>99.153033</td>\n",
       "      <td>735.348994</td>\n",
       "      <td>91.088184</td>\n",
       "      <td>710.526453</td>\n",
       "      <td>104.283112</td>\n",
       "      <td>753.286428</td>\n",
       "      <td>98.869878</td>\n",
       "      <td>696.530765</td>\n",
       "      <td>99.153033</td>\n",
       "      <td>99.153033</td>\n",
       "      <td>...</td>\n",
       "      <td>509.539652</td>\n",
       "      <td>738.757086</td>\n",
       "      <td>506.609583</td>\n",
       "      <td>682.912296</td>\n",
       "      <td>650.067908</td>\n",
       "      <td>725.290301</td>\n",
       "      <td>650.155304</td>\n",
       "      <td>662.962007</td>\n",
       "      <td>walking</td>\n",
       "      <td>3</td>\n",
       "    </tr>\n",
       "    <tr>\n",
       "      <th>3</th>\n",
       "      <td>111.768307</td>\n",
       "      <td>738.451703</td>\n",
       "      <td>102.766483</td>\n",
       "      <td>714.518439</td>\n",
       "      <td>114.444321</td>\n",
       "      <td>756.820146</td>\n",
       "      <td>110.629858</td>\n",
       "      <td>704.160144</td>\n",
       "      <td>111.768307</td>\n",
       "      <td>111.768307</td>\n",
       "      <td>...</td>\n",
       "      <td>518.921258</td>\n",
       "      <td>745.716152</td>\n",
       "      <td>518.749265</td>\n",
       "      <td>688.604398</td>\n",
       "      <td>654.276699</td>\n",
       "      <td>735.862199</td>\n",
       "      <td>659.860183</td>\n",
       "      <td>672.890801</td>\n",
       "      <td>walking</td>\n",
       "      <td>3</td>\n",
       "    </tr>\n",
       "    <tr>\n",
       "      <th>4</th>\n",
       "      <td>115.759422</td>\n",
       "      <td>741.244884</td>\n",
       "      <td>103.666712</td>\n",
       "      <td>718.555597</td>\n",
       "      <td>117.691903</td>\n",
       "      <td>761.409648</td>\n",
       "      <td>118.268761</td>\n",
       "      <td>704.773193</td>\n",
       "      <td>115.759422</td>\n",
       "      <td>115.759422</td>\n",
       "      <td>...</td>\n",
       "      <td>518.847756</td>\n",
       "      <td>749.429972</td>\n",
       "      <td>517.074658</td>\n",
       "      <td>688.008109</td>\n",
       "      <td>651.872229</td>\n",
       "      <td>742.211890</td>\n",
       "      <td>657.918275</td>\n",
       "      <td>680.886180</td>\n",
       "      <td>walking</td>\n",
       "      <td>3</td>\n",
       "    </tr>\n",
       "  </tbody>\n",
       "</table>\n",
       "<p>5 rows × 36 columns</p>\n",
       "</div>"
      ],
      "text/plain": [
       "       nose_x      nose_y   leftEye_x   leftEye_y  rightEye_x  rightEye_y  \\\n",
       "0   88.562267  724.668377   76.920197  701.279743   93.534148  740.639009   \n",
       "1   93.051570  727.495574   81.841070  701.667541   97.973295  746.697862   \n",
       "2   99.153033  735.348994   91.088184  710.526453  104.283112  753.286428   \n",
       "3  111.768307  738.451703  102.766483  714.518439  114.444321  756.820146   \n",
       "4  115.759422  741.244884  103.666712  718.555597  117.691903  761.409648   \n",
       "\n",
       "    leftEar_x   leftEar_y  rightEar_x  rightEar_y  ...  leftKnee_x  \\\n",
       "0   88.236137  684.570550   88.562267   88.562267  ...  496.243334   \n",
       "1   93.905751  689.764569   93.051570   93.051570  ...  499.121629   \n",
       "2   98.869878  696.530765   99.153033   99.153033  ...  509.539652   \n",
       "3  110.629858  704.160144  111.768307  111.768307  ...  518.921258   \n",
       "4  118.268761  704.773193  115.759422  115.759422  ...  518.847756   \n",
       "\n",
       "   leftKnee_y  rightKnee_x  rightKnee_y  leftAnkle_x  leftAnkle_y  \\\n",
       "0  721.868215   494.971538   662.846904   628.014079   708.712978   \n",
       "1  728.208774   492.833920   675.424337   634.003899   720.472129   \n",
       "2  738.757086   506.609583   682.912296   650.067908   725.290301   \n",
       "3  745.716152   518.749265   688.604398   654.276699   735.862199   \n",
       "4  749.429972   517.074658   688.008109   651.872229   742.211890   \n",
       "\n",
       "   rightAnkle_x  rightAnkle_y   action  label  \n",
       "0    634.165572    651.233892  walking      3  \n",
       "1    644.226322    650.533208  walking      3  \n",
       "2    650.155304    662.962007  walking      3  \n",
       "3    659.860183    672.890801  walking      3  \n",
       "4    657.918275    680.886180  walking      3  \n",
       "\n",
       "[5 rows x 36 columns]"
      ]
     },
     "execution_count": 7,
     "metadata": {},
     "output_type": "execute_result"
    }
   ],
   "source": [
    "label = LabelEncoder()\n",
    "df['label'] = label.fit_transform(df['action'])\n",
    "df.head()"
   ]
  },
  {
   "cell_type": "markdown",
   "metadata": {},
   "source": [
    "Using standard scaler to standardize the values"
   ]
  },
  {
   "cell_type": "code",
   "execution_count": 8,
   "metadata": {},
   "outputs": [
    {
     "data": {
      "text/html": [
       "<div>\n",
       "<style scoped>\n",
       "    .dataframe tbody tr th:only-of-type {\n",
       "        vertical-align: middle;\n",
       "    }\n",
       "\n",
       "    .dataframe tbody tr th {\n",
       "        vertical-align: top;\n",
       "    }\n",
       "\n",
       "    .dataframe thead th {\n",
       "        text-align: right;\n",
       "    }\n",
       "</style>\n",
       "<table border=\"1\" class=\"dataframe\">\n",
       "  <thead>\n",
       "    <tr style=\"text-align: right;\">\n",
       "      <th></th>\n",
       "      <th>nose_x</th>\n",
       "      <th>nose_y</th>\n",
       "      <th>leftEye_x</th>\n",
       "      <th>leftEye_y</th>\n",
       "      <th>rightEye_x</th>\n",
       "      <th>rightEye_y</th>\n",
       "      <th>leftEar_x</th>\n",
       "      <th>leftEar_y</th>\n",
       "      <th>rightEar_x</th>\n",
       "      <th>rightEar_y</th>\n",
       "      <th>...</th>\n",
       "      <th>rightHip_y</th>\n",
       "      <th>leftKnee_x</th>\n",
       "      <th>leftKnee_y</th>\n",
       "      <th>rightKnee_x</th>\n",
       "      <th>rightKnee_y</th>\n",
       "      <th>leftAnkle_x</th>\n",
       "      <th>leftAnkle_y</th>\n",
       "      <th>rightAnkle_x</th>\n",
       "      <th>rightAnkle_y</th>\n",
       "      <th>label</th>\n",
       "    </tr>\n",
       "  </thead>\n",
       "  <tbody>\n",
       "    <tr>\n",
       "      <th>0</th>\n",
       "      <td>-0.765450</td>\n",
       "      <td>1.526952</td>\n",
       "      <td>-0.806479</td>\n",
       "      <td>1.455903</td>\n",
       "      <td>-0.658560</td>\n",
       "      <td>1.591404</td>\n",
       "      <td>-0.709615</td>\n",
       "      <td>1.450961</td>\n",
       "      <td>-0.765450</td>\n",
       "      <td>-0.765450</td>\n",
       "      <td>...</td>\n",
       "      <td>1.668393</td>\n",
       "      <td>1.559720</td>\n",
       "      <td>1.832035</td>\n",
       "      <td>1.594451</td>\n",
       "      <td>1.723926</td>\n",
       "      <td>1.724502</td>\n",
       "      <td>1.778478</td>\n",
       "      <td>1.820009</td>\n",
       "      <td>1.681877</td>\n",
       "      <td>3</td>\n",
       "    </tr>\n",
       "    <tr>\n",
       "      <th>1</th>\n",
       "      <td>-0.722050</td>\n",
       "      <td>1.539947</td>\n",
       "      <td>-0.759153</td>\n",
       "      <td>1.457689</td>\n",
       "      <td>-0.613993</td>\n",
       "      <td>1.619602</td>\n",
       "      <td>-0.650847</td>\n",
       "      <td>1.475475</td>\n",
       "      <td>-0.722050</td>\n",
       "      <td>-0.722050</td>\n",
       "      <td>...</td>\n",
       "      <td>1.713600</td>\n",
       "      <td>1.585165</td>\n",
       "      <td>1.864385</td>\n",
       "      <td>1.575495</td>\n",
       "      <td>1.789315</td>\n",
       "      <td>1.766757</td>\n",
       "      <td>1.837833</td>\n",
       "      <td>1.891217</td>\n",
       "      <td>1.678281</td>\n",
       "      <td>3</td>\n",
       "    </tr>\n",
       "    <tr>\n",
       "      <th>2</th>\n",
       "      <td>-0.663065</td>\n",
       "      <td>1.576044</td>\n",
       "      <td>-0.670220</td>\n",
       "      <td>1.498475</td>\n",
       "      <td>-0.550646</td>\n",
       "      <td>1.650265</td>\n",
       "      <td>-0.599391</td>\n",
       "      <td>1.507409</td>\n",
       "      <td>-0.663065</td>\n",
       "      <td>-0.663065</td>\n",
       "      <td>...</td>\n",
       "      <td>1.763135</td>\n",
       "      <td>1.677263</td>\n",
       "      <td>1.918204</td>\n",
       "      <td>1.697655</td>\n",
       "      <td>1.828244</td>\n",
       "      <td>1.880079</td>\n",
       "      <td>1.862153</td>\n",
       "      <td>1.933181</td>\n",
       "      <td>1.742073</td>\n",
       "      <td>3</td>\n",
       "    </tr>\n",
       "    <tr>\n",
       "      <th>3</th>\n",
       "      <td>-0.541109</td>\n",
       "      <td>1.590305</td>\n",
       "      <td>-0.557906</td>\n",
       "      <td>1.516854</td>\n",
       "      <td>-0.448632</td>\n",
       "      <td>1.666711</td>\n",
       "      <td>-0.477492</td>\n",
       "      <td>1.543417</td>\n",
       "      <td>-0.541109</td>\n",
       "      <td>-0.541109</td>\n",
       "      <td>...</td>\n",
       "      <td>1.761121</td>\n",
       "      <td>1.760199</td>\n",
       "      <td>1.953710</td>\n",
       "      <td>1.805308</td>\n",
       "      <td>1.857837</td>\n",
       "      <td>1.909770</td>\n",
       "      <td>1.915515</td>\n",
       "      <td>2.001870</td>\n",
       "      <td>1.793034</td>\n",
       "      <td>3</td>\n",
       "    </tr>\n",
       "    <tr>\n",
       "      <th>4</th>\n",
       "      <td>-0.502526</td>\n",
       "      <td>1.603143</td>\n",
       "      <td>-0.549248</td>\n",
       "      <td>1.535441</td>\n",
       "      <td>-0.416028</td>\n",
       "      <td>1.688071</td>\n",
       "      <td>-0.398311</td>\n",
       "      <td>1.546310</td>\n",
       "      <td>-0.502526</td>\n",
       "      <td>-0.502526</td>\n",
       "      <td>...</td>\n",
       "      <td>1.819309</td>\n",
       "      <td>1.759549</td>\n",
       "      <td>1.972658</td>\n",
       "      <td>1.790458</td>\n",
       "      <td>1.854737</td>\n",
       "      <td>1.892808</td>\n",
       "      <td>1.947565</td>\n",
       "      <td>1.988126</td>\n",
       "      <td>1.834072</td>\n",
       "      <td>3</td>\n",
       "    </tr>\n",
       "  </tbody>\n",
       "</table>\n",
       "<p>5 rows × 35 columns</p>\n",
       "</div>"
      ],
      "text/plain": [
       "     nose_x    nose_y  leftEye_x  leftEye_y  rightEye_x  rightEye_y  \\\n",
       "0 -0.765450  1.526952  -0.806479   1.455903   -0.658560    1.591404   \n",
       "1 -0.722050  1.539947  -0.759153   1.457689   -0.613993    1.619602   \n",
       "2 -0.663065  1.576044  -0.670220   1.498475   -0.550646    1.650265   \n",
       "3 -0.541109  1.590305  -0.557906   1.516854   -0.448632    1.666711   \n",
       "4 -0.502526  1.603143  -0.549248   1.535441   -0.416028    1.688071   \n",
       "\n",
       "   leftEar_x  leftEar_y  rightEar_x  rightEar_y  ...  rightHip_y  leftKnee_x  \\\n",
       "0  -0.709615   1.450961   -0.765450   -0.765450  ...    1.668393    1.559720   \n",
       "1  -0.650847   1.475475   -0.722050   -0.722050  ...    1.713600    1.585165   \n",
       "2  -0.599391   1.507409   -0.663065   -0.663065  ...    1.763135    1.677263   \n",
       "3  -0.477492   1.543417   -0.541109   -0.541109  ...    1.761121    1.760199   \n",
       "4  -0.398311   1.546310   -0.502526   -0.502526  ...    1.819309    1.759549   \n",
       "\n",
       "   leftKnee_y  rightKnee_x  rightKnee_y  leftAnkle_x  leftAnkle_y  \\\n",
       "0    1.832035     1.594451     1.723926     1.724502     1.778478   \n",
       "1    1.864385     1.575495     1.789315     1.766757     1.837833   \n",
       "2    1.918204     1.697655     1.828244     1.880079     1.862153   \n",
       "3    1.953710     1.805308     1.857837     1.909770     1.915515   \n",
       "4    1.972658     1.790458     1.854737     1.892808     1.947565   \n",
       "\n",
       "   rightAnkle_x  rightAnkle_y  label  \n",
       "0      1.820009      1.681877      3  \n",
       "1      1.891217      1.678281      3  \n",
       "2      1.933181      1.742073      3  \n",
       "3      2.001870      1.793034      3  \n",
       "4      1.988126      1.834072      3  \n",
       "\n",
       "[5 rows x 35 columns]"
      ]
     },
     "execution_count": 8,
     "metadata": {},
     "output_type": "execute_result"
    }
   ],
   "source": [
    "x = df[['nose_x', 'nose_y', 'leftEye_x', 'leftEye_y', 'rightEye_x',\n",
    "       'rightEye_y', 'leftEar_x', 'leftEar_y', 'rightEar_x', 'rightEar_y',\n",
    "       'leftShoulder_x', 'leftShoulder_y', 'rightShoulder_x',\n",
    "       'rightShoulder_y', 'leftElbow_x', 'leftElbow_y', 'rightElbow_x',\n",
    "       'rightElbow_y', 'leftWrist_x', 'leftWrist_y', 'rightWrist_x',\n",
    "       'rightWrist_y', 'leftHip_x', 'leftHip_y', 'rightHip_x', 'rightHip_y',\n",
    "       'leftKnee_x', 'leftKnee_y', 'rightKnee_x', 'rightKnee_y', 'leftAnkle_x',\n",
    "       'leftAnkle_y', 'rightAnkle_x', 'rightAnkle_y']]\n",
    "\n",
    "y = df['label']\n",
    "\n",
    "scaler = StandardScaler()\n",
    "x = scaler.fit_transform(x)\n",
    "\n",
    "scaled_x = pd.DataFrame(data = x, columns = ['nose_x', 'nose_y', 'leftEye_x', 'leftEye_y', 'rightEye_x',\n",
    "       'rightEye_y', 'leftEar_x', 'leftEar_y', 'rightEar_x', 'rightEar_y',\n",
    "       'leftShoulder_x', 'leftShoulder_y', 'rightShoulder_x',\n",
    "       'rightShoulder_y', 'leftElbow_x', 'leftElbow_y', 'rightElbow_x',\n",
    "       'rightElbow_y', 'leftWrist_x', 'leftWrist_y', 'rightWrist_x',\n",
    "       'rightWrist_y', 'leftHip_x', 'leftHip_y', 'rightHip_x', 'rightHip_y',\n",
    "       'leftKnee_x', 'leftKnee_y', 'rightKnee_x', 'rightKnee_y', 'leftAnkle_x',\n",
    "       'leftAnkle_y', 'rightAnkle_x', 'rightAnkle_y'])\n",
    "scaled_x['label'] = y.values\n",
    " \n",
    "scaled_x.head()"
   ]
  },
  {
   "cell_type": "markdown",
   "metadata": {},
   "source": [
    "#### Setting the time for each activity as a multiple of Frame Rate (fps)\n",
    "The videos used in our training dataset have a frame rate of about 30 FPS, so now for training let's consider each activity lasts for 4 seconds."
   ]
  },
  {
   "cell_type": "code",
   "execution_count": 11,
   "metadata": {},
   "outputs": [],
   "source": [
    "fps = 30\n",
    "frame_size = fps*4\n",
    "hop_size = fps*2"
   ]
  },
  {
   "cell_type": "markdown",
   "metadata": {},
   "source": [
    "#### Converting each of the data sample to 2D \n",
    "eg: df = [[2D array walikng 4 secs data],...[2D array sitting 4 secs data],.....]"
   ]
  },
  {
   "cell_type": "code",
   "execution_count": 12,
   "metadata": {},
   "outputs": [],
   "source": [
    "def get_frames(df, frame_size, hop_size):\n",
    "    features = 34\n",
    "    \n",
    "    frames = []\n",
    "    labels = []\n",
    "    for i in range (0,len(df) - frame_size, hop_size):\n",
    "        nose_x = df['nose_x'].values[i: i + frame_size]\n",
    "        nose_y = df['nose_y'].values[i: i + frame_size]\n",
    "        leftEye_x = df['leftEye_x'].values[i: i + frame_size]\n",
    "        leftEye_y = df['leftEye_y'].values[i: i + frame_size]\n",
    "        rightEye_x = df['rightEye_x'].values[i: i + frame_size]\n",
    "        rightEye_y = df['rightEye_y'].values[i: i + frame_size]\n",
    "        leftEar_x = df['leftEar_x'].values[i: i + frame_size]\n",
    "        leftEar_y = df['leftEar_y'].values[i: i + frame_size]\n",
    "        rightEar_x = df['rightEar_x'].values[i: i + frame_size]\n",
    "        rightEar_y = df['rightEar_y'].values[i: i + frame_size]\n",
    "        leftShoulder_x = df['leftShoulder_x'].values[i: i + frame_size]\n",
    "        leftShoulder_y = df['leftShoulder_y'].values[i: i + frame_size]\n",
    "        rightShoulder_x = df['rightShoulder_x'].values[i: i + frame_size]\n",
    "        rightShoulder_y = df['rightShoulder_y'].values[i: i + frame_size]\n",
    "        leftElbow_x = df['leftElbow_x'].values[i: i + frame_size]\n",
    "        leftElbow_y = df['leftElbow_y'].values[i: i + frame_size]\n",
    "        rightElbow_x = df['rightElbow_x'].values[i: i + frame_size]\n",
    "        rightElbow_y = df['rightElbow_y'].values[i: i + frame_size]\n",
    "        leftWrist_x = df['leftWrist_x'].values[i: i + frame_size]\n",
    "        leftWrist_y = df['leftWrist_y'].values[i: i + frame_size]\n",
    "        rightWrist_x = df['rightWrist_x'].values[i: i + frame_size]\n",
    "        rightWrist_y = df['rightWrist_y'].values[i: i + frame_size]\n",
    "        leftHip_x = df['leftHip_x'].values[i: i + frame_size]\n",
    "        leftHip_y = df['leftHip_y'].values[i: i + frame_size]\n",
    "        rightHip_x = df['rightHip_x'].values[i: i + frame_size]\n",
    "        rightHip_y = df['rightHip_y'].values[i: i + frame_size]\n",
    "        leftKnee_x = df['leftKnee_x'].values[i: i + frame_size]\n",
    "        leftKnee_y = df['leftKnee_y'].values[i: i + frame_size]\n",
    "        rightKnee_x = df['rightKnee_x'].values[i: i + frame_size]\n",
    "        rightKnee_y = df['rightKnee_y'].values[i: i + frame_size]\n",
    "        leftAnkle_x = df['leftAnkle_x'].values[i: i + frame_size]\n",
    "        leftAnkle_y = df['leftAnkle_y'].values[i: i + frame_size]\n",
    "        rightAnkle_x = df['rightAnkle_x'].values[i: i + frame_size]\n",
    "        rightAnkle_y = df['rightAnkle_y'].values[i: i + frame_size]\n",
    "        \n",
    "        label = stats.mode(df['label'][i: i + frame_size])[0][0]\n",
    "        frames.append([nose_x, nose_y, leftEye_x, leftEye_y, rightEye_x,\n",
    "       rightEye_y, leftEar_x, leftEar_y, rightEar_x, rightEar_y,\n",
    "       leftShoulder_x, leftShoulder_y, rightShoulder_x,\n",
    "       rightShoulder_y, leftElbow_x, leftElbow_y, rightElbow_x,\n",
    "       rightElbow_y, leftWrist_x, leftWrist_y, rightWrist_x,\n",
    "       rightWrist_y, leftHip_x, leftHip_y, rightHip_x, rightHip_y,\n",
    "       leftKnee_x, leftKnee_y, rightKnee_x, rightKnee_y, leftAnkle_x,\n",
    "       leftAnkle_y, rightAnkle_x, rightAnkle_y])\n",
    "        labels.append(label)\n",
    "    \n",
    "    frames = np.asarray(frames).reshape(-1, frame_size, features)\n",
    "    labels = np.asarray(labels)\n",
    "    \n",
    "    return frames, labels"
   ]
  },
  {
   "cell_type": "code",
   "execution_count": 14,
   "metadata": {},
   "outputs": [
    {
     "data": {
      "text/plain": [
       "((438, 120, 34), (438,))"
      ]
     },
     "execution_count": 14,
     "metadata": {},
     "output_type": "execute_result"
    }
   ],
   "source": [
    "x, y = get_frames(scaled_x, frame_size, hop_size)\n",
    "x.shape, y.shape"
   ]
  },
  {
   "cell_type": "code",
   "execution_count": 15,
   "metadata": {},
   "outputs": [
    {
     "data": {
      "text/plain": [
       "(120, 34)"
      ]
     },
     "execution_count": 15,
     "metadata": {},
     "output_type": "execute_result"
    }
   ],
   "source": [
    "x[0].shape"
   ]
  },
  {
   "cell_type": "markdown",
   "metadata": {},
   "source": [
    "So now we have 438 training samples with each sample as a 2D array\n",
    "\n",
    "Now reshaping it to to get a 3d array for our CNN"
   ]
  },
  {
   "cell_type": "code",
   "execution_count": 18,
   "metadata": {},
   "outputs": [
    {
     "data": {
      "text/plain": [
       "(120, 34, 1)"
      ]
     },
     "execution_count": 18,
     "metadata": {},
     "output_type": "execute_result"
    }
   ],
   "source": [
    "x = x.reshape(438, 120, 34, 1)\n",
    "x[0].shape"
   ]
  },
  {
   "cell_type": "markdown",
   "metadata": {},
   "source": [
    "#### Making the test train split:"
   ]
  },
  {
   "cell_type": "code",
   "execution_count": 19,
   "metadata": {},
   "outputs": [],
   "source": [
    "x_train, x_test, y_train, y_test = train_test_split(x, y, test_size = 0.2, random_state = 0, stratify = y)"
   ]
  },
  {
   "cell_type": "markdown",
   "metadata": {},
   "source": [
    "#### Building the sequential model"
   ]
  },
  {
   "cell_type": "code",
   "execution_count": 23,
   "metadata": {},
   "outputs": [],
   "source": [
    "model = Sequential()\n",
    "model.add(Conv2D(16, (2, 2), activation = 'relu', input_shape = x_train[0].shape))\n",
    "model.add(Dropout(0.1))\n",
    "model.add(Conv2D(32, (2, 2), activation = 'relu'))\n",
    "model.add(Dropout(0.2))\n",
    "model.add(Flatten())\n",
    "model.add(Dropout(0.5))\n",
    "model.add(Dense(6, activation = 'softmax'))"
   ]
  },
  {
   "cell_type": "code",
   "execution_count": 24,
   "metadata": {},
   "outputs": [],
   "source": [
    "model.compile(optimizer=Adam(learning_rate = 0.01), loss = 'sparse_categorical_crossentropy', metrics = ['accuracy'])"
   ]
  },
  {
   "cell_type": "markdown",
   "metadata": {},
   "source": [
    "Fitting the model"
   ]
  },
  {
   "cell_type": "code",
   "execution_count": 37,
   "metadata": {},
   "outputs": [
    {
     "name": "stdout",
     "output_type": "stream",
     "text": [
      "Train on 350 samples, validate on 88 samples\n",
      "Epoch 1/8\n",
      "350/350 [==============================] - 3s 8ms/sample - loss: 1.9743e-04 - acc: 1.0000 - val_loss: 0.4486 - val_acc: 0.8636\n",
      "Epoch 2/8\n",
      "350/350 [==============================] - 3s 7ms/sample - loss: 1.8643e-04 - acc: 1.0000 - val_loss: 0.4532 - val_acc: 0.8636\n",
      "Epoch 3/8\n",
      "350/350 [==============================] - 3s 7ms/sample - loss: 2.1296e-04 - acc: 1.0000 - val_loss: 0.4702 - val_acc: 0.8636\n",
      "Epoch 4/8\n",
      "350/350 [==============================] - 3s 7ms/sample - loss: 4.2883e-04 - acc: 1.0000 - val_loss: 0.4725 - val_acc: 0.8523\n",
      "Epoch 5/8\n",
      "350/350 [==============================] - 3s 7ms/sample - loss: 1.8769e-04 - acc: 1.0000 - val_loss: 0.4706 - val_acc: 0.8636\n",
      "Epoch 6/8\n",
      "350/350 [==============================] - 2s 7ms/sample - loss: 0.0015 - acc: 1.0000 - val_loss: 0.6376 - val_acc: 0.8295\n",
      "Epoch 7/8\n",
      "350/350 [==============================] - 3s 7ms/sample - loss: 0.0017 - acc: 1.0000 - val_loss: 0.4940 - val_acc: 0.8409\n",
      "Epoch 8/8\n",
      "350/350 [==============================] - 3s 7ms/sample - loss: 3.7099e-04 - acc: 1.0000 - val_loss: 0.4865 - val_acc: 0.8636\n"
     ]
    }
   ],
   "source": [
    "model_fit = model.fit(x_train, y_train, epochs = 8, validation_data  = (x_test, y_test), verbose = 1)"
   ]
  },
  {
   "cell_type": "markdown",
   "metadata": {},
   "source": [
    "#### Saving the model"
   ]
  },
  {
   "cell_type": "code",
   "execution_count": 38,
   "metadata": {},
   "outputs": [],
   "source": [
    "model.save(\"fall_detection_model.h5\")"
   ]
  },
  {
   "cell_type": "markdown",
   "metadata": {},
   "source": [
    "#### Confusion Matrix:"
   ]
  },
  {
   "cell_type": "code",
   "execution_count": 43,
   "metadata": {},
   "outputs": [],
   "source": [
    "from mlxtend.plotting import plot_confusion_matrix\n",
    "from sklearn.metrics import confusion_matrix"
   ]
  },
  {
   "cell_type": "code",
   "execution_count": 45,
   "metadata": {},
   "outputs": [
    {
     "data": {
      "text/plain": [
       "(<Figure size 432x288 with 1 Axes>,\n",
       " <matplotlib.axes._subplots.AxesSubplot at 0x1a20d525708>)"
      ]
     },
     "execution_count": 45,
     "metadata": {},
     "output_type": "execute_result"
    },
    {
     "data": {
      "image/png": "[encoded data removed]",
      "text/plain": [
       "<Figure size 432x288 with 1 Axes>"
      ]
     },
     "metadata": {
      "needs_background": "light"
     },
     "output_type": "display_data"
    }
   ],
   "source": [
    "y_pred = model.predict_classes(x_test)\n",
    "mat = confusion_matrix(y_test, y_pred)\n",
    "plot_confusion_matrix(conf_mat=mat, class_names=label.classes_, show_normed=False )"
   ]
  },
  {
   "cell_type": "code",
   "execution_count": null,
   "metadata": {},
   "outputs": [],
   "source": []
  }
 ],
 "metadata": {
  "kernelspec": {
   "display_name": "Python 3",
   "language": "python",
   "name": "python3"
  },
  "language_info": {
   "codemirror_mode": {
    "name": "ipython",
    "version": 3
   },
   "file_extension": ".py",
   "mimetype": "text/x-python",
   "name": "python",
   "nbconvert_exporter": "python",
   "pygments_lexer": "ipython3",
   "version": "3.7.6"
  }
 },
 "nbformat": 4,
 "nbformat_minor": 4
}
